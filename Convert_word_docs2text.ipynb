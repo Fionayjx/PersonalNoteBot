{
 "cells": [
  {
   "attachments": {},
   "cell_type": "markdown",
   "metadata": {},
   "source": [
    "### This notebook is created to convert word documents (.doc & .docx) to text"
   ]
  },
  {
   "cell_type": "code",
   "execution_count": 2,
   "metadata": {},
   "outputs": [],
   "source": [
    "import textract"
   ]
  },
  {
   "cell_type": "code",
   "execution_count": 3,
   "metadata": {},
   "outputs": [],
   "source": [
    "# create a function to convert the .doc or .docx file to text\n",
    "def doc_to_text(file_path):\n",
    "    text = textract.process(file_path, encoding = 'utf-8')\n",
    "    return text.decode('utf-8')\n",
    "\n",
    "# This function takes the file path of the .doc or .docx file as input and extracts the text using the textract.process function. \n",
    "# The resulting text is then decoded from bytes to a string and returned."
   ]
  },
  {
   "cell_type": "code",
   "execution_count": 4,
   "metadata": {},
   "outputs": [],
   "source": [
    "# use the function to convert the word document (.doc) to text\n",
    "filepath = '/Users/shichen/Dropbox/NLP/AntConc notes.doc'\n",
    "text = doc_to_text(filepath)\n",
    "\n",
    "with open(\"output.txt\", \"w\", encoding=\"utf-8\") as output_file:\n",
    "    output_file.write(text)"
   ]
  },
  {
   "cell_type": "code",
   "execution_count": 5,
   "metadata": {},
   "outputs": [],
   "source": [
    "# use the function to convert the word document (.docx) to text\n",
    "filepath = '/Users/shichen/Dropbox/NLP/Shi Chen_Cover Letter_2nd.docx'\n",
    "text = doc_to_text(filepath)\n",
    "\n",
    "with open(\"output_coverletter.txt\", \"w\", encoding=\"utf-8\") as output_file:\n",
    "    output_file.write(text)"
   ]
  },
  {
   "cell_type": "code",
   "execution_count": null,
   "metadata": {},
   "outputs": [],
   "source": []
  }
 ],
 "metadata": {
  "kernelspec": {
   "display_name": "Python 3",
   "language": "python",
   "name": "python3"
  },
  "language_info": {
   "codemirror_mode": {
    "name": "ipython",
    "version": 3
   },
   "file_extension": ".py",
   "mimetype": "text/x-python",
   "name": "python",
   "nbconvert_exporter": "python",
   "pygments_lexer": "ipython3",
   "version": "3.10.10"
  },
  "orig_nbformat": 4
 },
 "nbformat": 4,
 "nbformat_minor": 2
}
